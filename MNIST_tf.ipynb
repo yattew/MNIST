{
  "nbformat": 4,
  "nbformat_minor": 0,
  "metadata": {
    "colab": {
      "name": "MNIST_tf.ipynb",
      "provenance": []
    },
    "kernelspec": {
      "name": "python3",
      "display_name": "Python 3"
    }
  },
  "cells": [
    {
      "cell_type": "code",
      "metadata": {
        "id": "bvLPaL_G27D3",
        "colab_type": "code",
        "colab": {
          "base_uri": "https://localhost:8080/",
          "height": 34
        },
        "outputId": "a4d1d010-6d57-4574-bea8-45c2fbe6103c"
      },
      "source": [
        "import tensorflow as tf\n",
        "print(tf.__version__)"
      ],
      "execution_count": 8,
      "outputs": [
        {
          "output_type": "stream",
          "text": [
            "2.2.0\n"
          ],
          "name": "stdout"
        }
      ]
    },
    {
      "cell_type": "code",
      "metadata": {
        "id": "KeT3chwe3Ba1",
        "colab_type": "code",
        "colab": {}
      },
      "source": [
        "import pickle\n",
        "import numpy as np\n",
        "import matplotlib.pyplot as plt\n",
        "with open(\"images.bin\",\"rb\") as f:\n",
        "    d = pickle.load(f)"
      ],
      "execution_count": 9,
      "outputs": []
    },
    {
      "cell_type": "code",
      "metadata": {
        "id": "R6JBrf9l8MQJ",
        "colab_type": "code",
        "colab": {}
      },
      "source": [
        "features = []\n",
        "target = []\n",
        "for i in range(0,10):\n",
        "    for j in d[i][1]:\n",
        "        features.append(list(j))\n",
        "        target.append(i)"
      ],
      "execution_count": 10,
      "outputs": []
    },
    {
      "cell_type": "code",
      "metadata": {
        "id": "Epa6b3UyBB8t",
        "colab_type": "code",
        "colab": {}
      },
      "source": [
        "import numpy as np"
      ],
      "execution_count": 11,
      "outputs": []
    },
    {
      "cell_type": "code",
      "metadata": {
        "id": "SyK4dodIBHfl",
        "colab_type": "code",
        "colab": {}
      },
      "source": [
        "features_np = np.asarray(features)\n",
        "target_np = np.asarray(target)"
      ],
      "execution_count": 25,
      "outputs": []
    },
    {
      "cell_type": "code",
      "metadata": {
        "id": "dksWfp90BPEZ",
        "colab_type": "code",
        "colab": {}
      },
      "source": [
        "print(target_np[10000])\n",
        "plt.imshow(features_np[10000].reshape(28,28),cmap=\"gray\")"
      ],
      "execution_count": null,
      "outputs": []
    },
    {
      "cell_type": "code",
      "metadata": {
        "id": "7TS5gvrICY1P",
        "colab_type": "code",
        "colab": {}
      },
      "source": [
        "features_np = features_np/255.0"
      ],
      "execution_count": 26,
      "outputs": []
    },
    {
      "cell_type": "code",
      "metadata": {
        "id": "zEFbn73QEq0X",
        "colab_type": "code",
        "colab": {}
      },
      "source": [
        "from sklearn.model_selection import train_test_split"
      ],
      "execution_count": 21,
      "outputs": []
    },
    {
      "cell_type": "code",
      "metadata": {
        "id": "7Np75JDbFOSg",
        "colab_type": "code",
        "colab": {}
      },
      "source": [
        "X_train, X_test, y_train, y_test = train_test_split(features_np, target_np, test_size=0.30)"
      ],
      "execution_count": 22,
      "outputs": []
    },
    {
      "cell_type": "code",
      "metadata": {
        "id": "ectL3sgHFlEd",
        "colab_type": "code",
        "colab": {
          "base_uri": "https://localhost:8080/",
          "height": 34
        },
        "outputId": "f50516a3-96be-43ea-ac97-f1f7f5a953f3"
      },
      "source": [
        "print(X_train.shape)"
      ],
      "execution_count": 23,
      "outputs": [
        {
          "output_type": "stream",
          "text": [
            "(29400, 784)\n"
          ],
          "name": "stdout"
        }
      ]
    },
    {
      "cell_type": "code",
      "metadata": {
        "id": "Hi01oXOWFWnY",
        "colab_type": "code",
        "colab": {}
      },
      "source": [
        "model = tf.keras.Sequential([\n",
        "    tf.keras.layers.Dense(128,activation='relu',input_shape=(784,)),\n",
        "    tf.keras.layers.Dropout(0.2),\n",
        "    tf.keras.layers.Dense(32,activation='relu'),\n",
        "    tf.keras.layers.Dropout(0.2),\n",
        "    tf.keras.layers.Dense(10, activation='softmax')\n",
        "])"
      ],
      "execution_count": 55,
      "outputs": []
    },
    {
      "cell_type": "code",
      "metadata": {
        "id": "8bNPiIaUIfr_",
        "colab_type": "code",
        "colab": {}
      },
      "source": [
        "model.compile(\n",
        "    optimizer='adam',\n",
        "    loss=\"sparse_categorical_crossentropy\",\n",
        "    metrics=['accuracy']\n",
        ")"
      ],
      "execution_count": 56,
      "outputs": []
    },
    {
      "cell_type": "code",
      "metadata": {
        "id": "KjZiNm8gJWZi",
        "colab_type": "code",
        "colab": {
          "base_uri": "https://localhost:8080/",
          "height": 377
        },
        "outputId": "62012950-0937-4b4e-e50b-4bd415bd6b14"
      },
      "source": [
        "r = model.fit(X_train,y_train,validation_data=(X_test,y_test), epochs=10)"
      ],
      "execution_count": 57,
      "outputs": [
        {
          "output_type": "stream",
          "text": [
            "Epoch 1/10\n",
            "919/919 [==============================] - 2s 3ms/step - loss: 0.5153 - accuracy: 0.8436 - val_loss: 0.2105 - val_accuracy: 0.9372\n",
            "Epoch 2/10\n",
            "919/919 [==============================] - 2s 3ms/step - loss: 0.2367 - accuracy: 0.9294 - val_loss: 0.1454 - val_accuracy: 0.9590\n",
            "Epoch 3/10\n",
            "919/919 [==============================] - 2s 3ms/step - loss: 0.1815 - accuracy: 0.9450 - val_loss: 0.1276 - val_accuracy: 0.9612\n",
            "Epoch 4/10\n",
            "919/919 [==============================] - 3s 3ms/step - loss: 0.1502 - accuracy: 0.9546 - val_loss: 0.1282 - val_accuracy: 0.9629\n",
            "Epoch 5/10\n",
            "919/919 [==============================] - 3s 3ms/step - loss: 0.1265 - accuracy: 0.9612 - val_loss: 0.1139 - val_accuracy: 0.9678\n",
            "Epoch 6/10\n",
            "919/919 [==============================] - 3s 3ms/step - loss: 0.1118 - accuracy: 0.9661 - val_loss: 0.1157 - val_accuracy: 0.9666\n",
            "Epoch 7/10\n",
            "919/919 [==============================] - 2s 3ms/step - loss: 0.1019 - accuracy: 0.9694 - val_loss: 0.1110 - val_accuracy: 0.9683\n",
            "Epoch 8/10\n",
            "919/919 [==============================] - 2s 3ms/step - loss: 0.0901 - accuracy: 0.9721 - val_loss: 0.1090 - val_accuracy: 0.9704\n",
            "Epoch 9/10\n",
            "919/919 [==============================] - 3s 3ms/step - loss: 0.0857 - accuracy: 0.9727 - val_loss: 0.1131 - val_accuracy: 0.9691\n",
            "Epoch 10/10\n",
            "919/919 [==============================] - 2s 3ms/step - loss: 0.0734 - accuracy: 0.9772 - val_loss: 0.1214 - val_accuracy: 0.9672\n"
          ],
          "name": "stdout"
        }
      ]
    },
    {
      "cell_type": "code",
      "metadata": {
        "id": "v43HSYzeJn25",
        "colab_type": "code",
        "colab": {
          "base_uri": "https://localhost:8080/",
          "height": 282
        },
        "outputId": "87e981a7-666f-409c-8e4c-fde1a2724a79"
      },
      "source": [
        "plt.plot(r.history['loss'], label='loss')\n",
        "plt.plot(r.history['val_loss'], label='val_loss')\n",
        "plt.legend()"
      ],
      "execution_count": 58,
      "outputs": [
        {
          "output_type": "execute_result",
          "data": {
            "text/plain": [
              "<matplotlib.legend.Legend at 0x7fd56c0486a0>"
            ]
          },
          "metadata": {
            "tags": []
          },
          "execution_count": 58
        },
        {
          "output_type": "display_data",
          "data": {
            "image/png": "[encoded data removed]",
            "text/plain": [
              "<Figure size 432x288 with 1 Axes>"
            ]
          },
          "metadata": {
            "tags": [],
            "needs_background": "light"
          }
        }
      ]
    },
    {
      "cell_type": "code",
      "metadata": {
        "id": "utLzn9NaKkEY",
        "colab_type": "code",
        "colab": {}
      },
      "source": [
        "from sklearn.metrics import classification_report,confusion_matrix"
      ],
      "execution_count": 46,
      "outputs": []
    },
    {
      "cell_type": "code",
      "metadata": {
        "id": "YQpx0IgKLeF_",
        "colab_type": "code",
        "colab": {}
      },
      "source": [
        "predictions = model.predict(np.asarray([X_test[1]]))"
      ],
      "execution_count": 70,
      "outputs": []
    },
    {
      "cell_type": "code",
      "metadata": {
        "id": "QtHkITWhLlyK",
        "colab_type": "code",
        "colab": {
          "base_uri": "https://localhost:8080/",
          "height": 34
        },
        "outputId": "a33f99cb-518f-4d72-8d2f-1b572eb82ea0"
      },
      "source": [
        "np.where(predictions == predictions.max())"
      ],
      "execution_count": 71,
      "outputs": [
        {
          "output_type": "execute_result",
          "data": {
            "text/plain": [
              "(array([0]), array([8]))"
            ]
          },
          "metadata": {
            "tags": []
          },
          "execution_count": 71
        }
      ]
    },
    {
      "cell_type": "code",
      "metadata": {
        "id": "byOrRgCgLv4j",
        "colab_type": "code",
        "colab": {
          "base_uri": "https://localhost:8080/",
          "height": 282
        },
        "outputId": "67299ee1-d702-4aaf-938d-241c2f2ad7d3"
      },
      "source": [
        "plt.imshow(X_test[1].reshape(28,28))"
      ],
      "execution_count": 72,
      "outputs": [
        {
          "output_type": "execute_result",
          "data": {
            "text/plain": [
              "<matplotlib.image.AxesImage at 0x7fd56be31da0>"
            ]
          },
          "metadata": {
            "tags": []
          },
          "execution_count": 72
        },
        {
          "output_type": "display_data",
          "data": {
            "image/png": "[encoded data removed]",
            "text/plain": [
              "<Figure size 432x288 with 1 Axes>"
            ]
          },
          "metadata": {
            "tags": [],
            "needs_background": "light"
          }
        }
      ]
    },
    {
      "cell_type": "code",
      "metadata": {
        "id": "yYy_lJ4uPAc7",
        "colab_type": "code",
        "colab": {}
      },
      "source": [
        "#model.save('')"
      ],
      "execution_count": 107,
      "outputs": []
    },
    {
      "cell_type": "code",
      "metadata": {
        "id": "0F6XDuhoPG4O",
        "colab_type": "code",
        "colab": {}
      },
      "source": [
        "from PIL import Image"
      ],
      "execution_count": 78,
      "outputs": []
    },
    {
      "cell_type": "code",
      "metadata": {
        "id": "MYWt0yLFQTqF",
        "colab_type": "code",
        "colab": {}
      },
      "source": [
        "image = Image.open('test.jpg')\n",
        "image = image.convert('1')\n",
        "image = image.resize((28,28))\n",
        "np_image = np.asarray(image)"
      ],
      "execution_count": 87,
      "outputs": []
    },
    {
      "cell_type": "code",
      "metadata": {
        "id": "jkUHxFc5QWlh",
        "colab_type": "code",
        "colab": {}
      },
      "source": [
        "p = model.predict(np.asarray([np_image.flatten()]))"
      ],
      "execution_count": 97,
      "outputs": []
    },
    {
      "cell_type": "code",
      "metadata": {
        "id": "aBTX9tGtQctU",
        "colab_type": "code",
        "colab": {}
      },
      "source": [
        "def prediction(p):\n",
        "  d = {}\n",
        "  ct=0\n",
        "  for i in p.flatten():\n",
        "    d[ct] = i\n",
        "    ct+=1\n",
        "  return d"
      ],
      "execution_count": 105,
      "outputs": []
    },
    {
      "cell_type": "code",
      "metadata": {
        "id": "EWvpYg7GR-Sp",
        "colab_type": "code",
        "colab": {
          "base_uri": "https://localhost:8080/",
          "height": 187
        },
        "outputId": "0b0230aa-8de4-4e7c-84d4-6f0cca097c10"
      },
      "source": [
        "prediction(p)"
      ],
      "execution_count": 106,
      "outputs": [
        {
          "output_type": "execute_result",
          "data": {
            "text/plain": [
              "{0: 0.0,\n",
              " 1: 0.0,\n",
              " 2: 1.0,\n",
              " 3: 0.0,\n",
              " 4: 0.0,\n",
              " 5: 0.0,\n",
              " 6: 0.0,\n",
              " 7: 0.0,\n",
              " 8: 0.0,\n",
              " 9: 0.0}"
            ]
          },
          "metadata": {
            "tags": []
          },
          "execution_count": 106
        }
      ]
    },
    {
      "cell_type": "code",
      "metadata": {
        "id": "Q7LEUzGYSZAm",
        "colab_type": "code",
        "colab": {}
      },
      "source": [
        ""
      ],
      "execution_count": null,
      "outputs": []
    }
  ]
}